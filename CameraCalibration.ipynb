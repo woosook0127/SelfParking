{
 "cells": [
  {
   "cell_type": "code",
   "execution_count": 5,
   "id": "90301749",
   "metadata": {},
   "outputs": [],
   "source": [
    "import cv2\n",
    "import threading\n",
    "import numpy as np"
   ]
  },
  {
   "cell_type": "code",
   "execution_count": 3,
   "id": "e8768ff4",
   "metadata": {},
   "outputs": [],
   "source": [
    "# Configuration\n",
    "\n",
    "oo = 1E9\n",
    "CAM_WIDTH = 720\n",
    "CAM_HEIGTH = 480\n",
    "OUTPUT_WIDTH = 1024\n",
    "OUTPUT_HEIGTH = 500\n",
    "WIDTH_ADJUST = 90\n",
    "HEIGHT_ADJUST = 0"
   ]
  },
  {
   "cell_type": "code",
   "execution_count": null,
   "id": "23ffc3ac",
   "metadata": {},
   "outputs": [],
   "source": [
    "camID = 0 # int\n",
    "FISH_EYE = True # Bool\n",
    "WINDOWSNAME = \"ChessCatch\"\n",
    "usedImageForCalib = 15\n",
    "board_size = Size(4,6)"
   ]
  },
  {
   "cell_type": "code",
   "execution_count": 4,
   "id": "eaa837d1",
   "metadata": {},
   "outputs": [
    {
     "ename": "NameError",
     "evalue": "name 'Size' is not defined",
     "output_type": "error",
     "traceback": [
      "\u001b[0;31m---------------------------------------------------------------------------\u001b[0m",
      "\u001b[0;31mNameError\u001b[0m                                 Traceback (most recent call last)",
      "Input \u001b[0;32mIn [4]\u001b[0m, in \u001b[0;36m<cell line: 1>\u001b[0;34m()\u001b[0m\n\u001b[0;32m----> 1\u001b[0m board_size \u001b[38;5;241m=\u001b[39m \u001b[43mSize\u001b[49m(\u001b[38;5;241m4\u001b[39m,\u001b[38;5;241m6\u001b[39m)\n",
      "\u001b[0;31mNameError\u001b[0m: name 'Size' is not defined"
     ]
    }
   ],
   "source": [
    "board_size = Size(4,6)"
   ]
  },
  {
   "cell_type": "code",
   "execution_count": null,
   "id": "73b09c94",
   "metadata": {},
   "outputs": [],
   "source": [
    "def save():\n",
    "    write()"
   ]
  }
 ],
 "metadata": {
  "kernelspec": {
   "display_name": "CV",
   "language": "python",
   "name": "cv"
  },
  "language_info": {
   "codemirror_mode": {
    "name": "ipython",
    "version": 3
   },
   "file_extension": ".py",
   "mimetype": "text/x-python",
   "name": "python",
   "nbconvert_exporter": "python",
   "pygments_lexer": "ipython3",
   "version": "3.8.13"
  }
 },
 "nbformat": 4,
 "nbformat_minor": 5
}
