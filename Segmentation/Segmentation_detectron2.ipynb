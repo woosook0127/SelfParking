{
 "cells": [
  {
   "cell_type": "markdown",
   "id": "fc182bb9",
   "metadata": {},
   "source": [
    "- 페이스북 인공지능 연구소(FAIR)에서 개발한 객체 세그멘테이션 프레임워크\n",
    "- 페이스북에서 개발한 DensePose, Mask R-CNN 등을 Detectron2에서 제공\n",
    "- 손쉽게 다양한 사물들을 탐지하고 세그먼테이션하여, 객체의 유형, 크기, 위치 등을 자동으로 얻을 수 있음"
   ]
  },
  {
   "cell_type": "code",
   "execution_count": 13,
   "id": "83421ede",
   "metadata": {},
   "outputs": [
    {
     "name": "stdout",
     "output_type": "stream",
     "text": [
      "Looking in indexes: https://pypi.org/simple, https://pypi.ngc.nvidia.com\n",
      "Looking in links: https://dl.fbaipublicfiles.com/detectron2/wheels/cu102/torch1.8/index.html\n",
      "Requirement already satisfied: detectron2 in /home/r320ws/anaconda3/lib/python3.8/site-packages (0.6+cu102)\n",
      "Requirement already satisfied: tabulate in /home/r320ws/anaconda3/lib/python3.8/site-packages (from detectron2) (0.8.9)\n",
      "Requirement already satisfied: Pillow>=7.1 in /home/r320ws/anaconda3/lib/python3.8/site-packages (from detectron2) (8.2.0)\n",
      "Requirement already satisfied: matplotlib in /home/r320ws/anaconda3/lib/python3.8/site-packages (from detectron2) (3.3.4)\n",
      "Requirement already satisfied: cloudpickle in /home/r320ws/anaconda3/lib/python3.8/site-packages (from detectron2) (1.6.0)\n",
      "Requirement already satisfied: yacs>=0.1.8 in /home/r320ws/anaconda3/lib/python3.8/site-packages (from detectron2) (0.1.8)\n",
      "Requirement already satisfied: tqdm>4.29.0 in /home/r320ws/anaconda3/lib/python3.8/site-packages (from detectron2) (4.59.0)\n",
      "Requirement already satisfied: pydot in /home/r320ws/anaconda3/lib/python3.8/site-packages (from detectron2) (1.4.2)\n",
      "Requirement already satisfied: hydra-core>=1.1 in /home/r320ws/anaconda3/lib/python3.8/site-packages (from detectron2) (1.2.0)\n",
      "Requirement already satisfied: black==21.4b2 in /home/r320ws/anaconda3/lib/python3.8/site-packages (from detectron2) (21.4b2)\n",
      "Requirement already satisfied: iopath<0.1.10,>=0.1.7 in /home/r320ws/anaconda3/lib/python3.8/site-packages (from detectron2) (0.1.9)\n",
      "Requirement already satisfied: future in /home/r320ws/anaconda3/lib/python3.8/site-packages (from detectron2) (0.18.2)\n",
      "Requirement already satisfied: tensorboard in /home/r320ws/anaconda3/lib/python3.8/site-packages (from detectron2) (2.8.0)\n",
      "Requirement already satisfied: fvcore<0.1.6,>=0.1.5 in /home/r320ws/anaconda3/lib/python3.8/site-packages (from detectron2) (0.1.5.post20220512)\n",
      "Requirement already satisfied: termcolor>=1.1 in /home/r320ws/anaconda3/lib/python3.8/site-packages (from detectron2) (1.1.0)\n",
      "Requirement already satisfied: omegaconf>=2.1 in /home/r320ws/anaconda3/lib/python3.8/site-packages (from detectron2) (2.2.1)\n",
      "Requirement already satisfied: pycocotools>=2.0.2 in /home/r320ws/anaconda3/lib/python3.8/site-packages (from detectron2) (2.0.4)\n",
      "Requirement already satisfied: regex>=2020.1.8 in /home/r320ws/anaconda3/lib/python3.8/site-packages (from black==21.4b2->detectron2) (2021.4.4)\n",
      "Requirement already satisfied: click>=7.1.2 in /home/r320ws/anaconda3/lib/python3.8/site-packages (from black==21.4b2->detectron2) (7.1.2)\n",
      "Requirement already satisfied: mypy-extensions>=0.4.3 in /home/r320ws/anaconda3/lib/python3.8/site-packages (from black==21.4b2->detectron2) (0.4.3)\n",
      "Requirement already satisfied: appdirs in /home/r320ws/anaconda3/lib/python3.8/site-packages (from black==21.4b2->detectron2) (1.4.4)\n",
      "Requirement already satisfied: toml>=0.10.1 in /home/r320ws/anaconda3/lib/python3.8/site-packages (from black==21.4b2->detectron2) (0.10.2)\n",
      "Requirement already satisfied: pathspec<1,>=0.8.1 in /home/r320ws/anaconda3/lib/python3.8/site-packages (from black==21.4b2->detectron2) (0.9.0)\n",
      "Requirement already satisfied: pyyaml>=5.1 in /home/r320ws/anaconda3/lib/python3.8/site-packages (from fvcore<0.1.6,>=0.1.5->detectron2) (5.4.1)\n",
      "Requirement already satisfied: numpy in /home/r320ws/anaconda3/lib/python3.8/site-packages (from fvcore<0.1.6,>=0.1.5->detectron2) (1.20.1)\n",
      "Requirement already satisfied: antlr4-python3-runtime==4.9.* in /home/r320ws/anaconda3/lib/python3.8/site-packages (from hydra-core>=1.1->detectron2) (4.9.3)\n",
      "Requirement already satisfied: importlib-resources in /home/r320ws/anaconda3/lib/python3.8/site-packages (from hydra-core>=1.1->detectron2) (5.6.0)\n",
      "Requirement already satisfied: packaging in /home/r320ws/anaconda3/lib/python3.8/site-packages (from hydra-core>=1.1->detectron2) (20.9)\n",
      "Requirement already satisfied: portalocker in /home/r320ws/anaconda3/lib/python3.8/site-packages (from iopath<0.1.10,>=0.1.7->detectron2) (2.4.0)\n",
      "Requirement already satisfied: cycler>=0.10 in /home/r320ws/anaconda3/lib/python3.8/site-packages (from matplotlib->detectron2) (0.10.0)\n",
      "Requirement already satisfied: python-dateutil>=2.1 in /home/r320ws/anaconda3/lib/python3.8/site-packages (from matplotlib->detectron2) (2.8.1)\n",
      "Requirement already satisfied: kiwisolver>=1.0.1 in /home/r320ws/anaconda3/lib/python3.8/site-packages (from matplotlib->detectron2) (1.3.1)\n",
      "Requirement already satisfied: pyparsing!=2.0.4,!=2.1.2,!=2.1.6,>=2.0.3 in /home/r320ws/anaconda3/lib/python3.8/site-packages (from matplotlib->detectron2) (2.4.7)\n",
      "Requirement already satisfied: grpcio>=1.24.3 in /home/r320ws/anaconda3/lib/python3.8/site-packages (from tensorboard->detectron2) (1.44.0)\n",
      "Requirement already satisfied: tensorboard-data-server<0.7.0,>=0.6.0 in /home/r320ws/anaconda3/lib/python3.8/site-packages (from tensorboard->detectron2) (0.6.1)\n",
      "Requirement already satisfied: requests<3,>=2.21.0 in /home/r320ws/anaconda3/lib/python3.8/site-packages (from tensorboard->detectron2) (2.25.1)\n",
      "Requirement already satisfied: google-auth<3,>=1.6.3 in /home/r320ws/anaconda3/lib/python3.8/site-packages (from tensorboard->detectron2) (2.6.2)\n",
      "Requirement already satisfied: absl-py>=0.4 in /home/r320ws/anaconda3/lib/python3.8/site-packages (from tensorboard->detectron2) (1.0.0)\n",
      "Requirement already satisfied: markdown>=2.6.8 in /home/r320ws/anaconda3/lib/python3.8/site-packages (from tensorboard->detectron2) (3.3.6)\n",
      "Requirement already satisfied: protobuf>=3.6.0 in /home/r320ws/anaconda3/lib/python3.8/site-packages (from tensorboard->detectron2) (3.19.4)\n",
      "Requirement already satisfied: google-auth-oauthlib<0.5,>=0.4.1 in /home/r320ws/anaconda3/lib/python3.8/site-packages (from tensorboard->detectron2) (0.4.6)\n",
      "Requirement already satisfied: wheel>=0.26 in /home/r320ws/anaconda3/lib/python3.8/site-packages (from tensorboard->detectron2) (0.36.2)\n",
      "Requirement already satisfied: setuptools>=41.0.0 in /home/r320ws/anaconda3/lib/python3.8/site-packages (from tensorboard->detectron2) (60.9.3)\n",
      "Requirement already satisfied: werkzeug>=0.11.15 in /home/r320ws/anaconda3/lib/python3.8/site-packages (from tensorboard->detectron2) (1.0.1)\n",
      "Requirement already satisfied: tensorboard-plugin-wit>=1.6.0 in /home/r320ws/anaconda3/lib/python3.8/site-packages (from tensorboard->detectron2) (1.8.1)\n",
      "Requirement already satisfied: six in /home/r320ws/anaconda3/lib/python3.8/site-packages (from absl-py>=0.4->tensorboard->detectron2) (1.15.0)\n",
      "Requirement already satisfied: rsa<5,>=3.1.4 in /home/r320ws/anaconda3/lib/python3.8/site-packages (from google-auth<3,>=1.6.3->tensorboard->detectron2) (4.8)\n",
      "Requirement already satisfied: cachetools<6.0,>=2.0.0 in /home/r320ws/anaconda3/lib/python3.8/site-packages (from google-auth<3,>=1.6.3->tensorboard->detectron2) (5.0.0)\n",
      "Requirement already satisfied: pyasn1-modules>=0.2.1 in /home/r320ws/anaconda3/lib/python3.8/site-packages (from google-auth<3,>=1.6.3->tensorboard->detectron2) (0.2.8)\n",
      "Requirement already satisfied: requests-oauthlib>=0.7.0 in /home/r320ws/anaconda3/lib/python3.8/site-packages (from google-auth-oauthlib<0.5,>=0.4.1->tensorboard->detectron2) (1.3.1)\n",
      "Requirement already satisfied: importlib-metadata>=4.4 in /home/r320ws/anaconda3/lib/python3.8/site-packages (from markdown>=2.6.8->tensorboard->detectron2) (4.11.3)\n",
      "Requirement already satisfied: idna<3,>=2.5 in /home/r320ws/anaconda3/lib/python3.8/site-packages (from requests<3,>=2.21.0->tensorboard->detectron2) (2.10)\n",
      "Requirement already satisfied: certifi>=2017.4.17 in /home/r320ws/anaconda3/lib/python3.8/site-packages (from requests<3,>=2.21.0->tensorboard->detectron2) (2020.12.5)\n",
      "Requirement already satisfied: chardet<5,>=3.0.2 in /home/r320ws/anaconda3/lib/python3.8/site-packages (from requests<3,>=2.21.0->tensorboard->detectron2) (4.0.0)\n",
      "Requirement already satisfied: urllib3<1.27,>=1.21.1 in /home/r320ws/anaconda3/lib/python3.8/site-packages (from requests<3,>=2.21.0->tensorboard->detectron2) (1.26.4)\n",
      "Requirement already satisfied: zipp>=3.1.0 in /home/r320ws/anaconda3/lib/python3.8/site-packages (from importlib-resources->hydra-core>=1.1->detectron2) (3.4.1)\n",
      "Requirement already satisfied: pyasn1<0.5.0,>=0.4.6 in /home/r320ws/anaconda3/lib/python3.8/site-packages (from pyasn1-modules>=0.2.1->google-auth<3,>=1.6.3->tensorboard->detectron2) (0.4.8)\n"
     ]
    },
    {
     "name": "stdout",
     "output_type": "stream",
     "text": [
      "Requirement already satisfied: oauthlib>=3.0.0 in /home/r320ws/anaconda3/lib/python3.8/site-packages (from requests-oauthlib>=0.7.0->google-auth-oauthlib<0.5,>=0.4.1->tensorboard->detectron2) (3.2.0)\n",
      "\u001b[1;33mwarning\u001b[0m: \u001b[1mmissing-index-doctype\u001b[0m\n",
      "\n",
      "\u001b[33m×\u001b[0m The package index page being used does not have a proper HTML doctype declaration.\n",
      "\u001b[33m╰─>\u001b[0m Problematic URL: \u001b[4;94mhttps://dl.fbaipublicfiles.com/detectron2/wheels/cu102/torch1.8/index.html\u001b[0m\n",
      "\n",
      "\u001b[1;35mnote\u001b[0m: This is an issue with the page at the URL mentioned above.\n",
      "\u001b[1;36mhint\u001b[0m: You might need to reach out to the owner of that package index, to get this fixed. See \u001b[4;94mhttps://github.com/pypa/pip/issues/10825\u001b[0m for context.\n",
      "\u001b[33mWARNING: You are using pip version 22.0.3; however, version 22.1 is available.\n",
      "You should consider upgrading via the '/home/r320ws/anaconda3/bin/python -m pip install --upgrade pip' command.\u001b[0m\u001b[33m\n",
      "\u001b[0m"
     ]
    }
   ],
   "source": [
    "# !pip3 install pyyaml==5.1\n",
    "# !pip3 install torch==1.9.0+cu102 torchvision==0.10.0+cu102 -f https://download.pytorch.org/whl/torch_stable.html\n",
    "!pip3 install detectron2 -f https://dl.fbaipublicfiles.com/detectron2/wheels/cu102/torch1.8/index.html"
   ]
  },
  {
   "cell_type": "code",
   "execution_count": 3,
   "id": "8cad6d26",
   "metadata": {},
   "outputs": [
    {
     "name": "stdout",
     "output_type": "stream",
     "text": [
      "1.8.1+cu102 True\n"
     ]
    }
   ],
   "source": [
    "import torch, torchvision\n",
    "print(torch.__version__, torch.cuda.is_available())"
   ]
  },
  {
   "cell_type": "code",
   "execution_count": 12,
   "id": "68700ef6",
   "metadata": {},
   "outputs": [
    {
     "ename": "ModuleNotFoundError",
     "evalue": "No module named 'detectron2'",
     "output_type": "error",
     "traceback": [
      "\u001b[0;31m---------------------------------------------------------------------------\u001b[0m",
      "\u001b[0;31mModuleNotFoundError\u001b[0m                       Traceback (most recent call last)",
      "\u001b[0;32m<ipython-input-12-e74d493dcb1b>\u001b[0m in \u001b[0;36m<module>\u001b[0;34m\u001b[0m\n\u001b[0;32m----> 1\u001b[0;31m \u001b[0;32mimport\u001b[0m \u001b[0mdetectron2\u001b[0m\u001b[0;34m\u001b[0m\u001b[0;34m\u001b[0m\u001b[0m\n\u001b[0m\u001b[1;32m      2\u001b[0m \u001b[0;32mfrom\u001b[0m \u001b[0mdetectron2\u001b[0m\u001b[0;34m.\u001b[0m\u001b[0mtils\u001b[0m\u001b[0;34m.\u001b[0m\u001b[0mlogger\u001b[0m \u001b[0;32mimport\u001b[0m \u001b[0msetup_logger\u001b[0m\u001b[0;34m\u001b[0m\u001b[0;34m\u001b[0m\u001b[0m\n",
      "\u001b[0;31mModuleNotFoundError\u001b[0m: No module named 'detectron2'"
     ]
    }
   ],
   "source": [
    "import detectron2\n",
    "from detectron2.tils.logger import setup_logger\n"
   ]
  },
  {
   "cell_type": "code",
   "execution_count": null,
   "id": "d9d8e9de",
   "metadata": {},
   "outputs": [],
   "source": []
  }
 ],
 "metadata": {
  "kernelspec": {
   "display_name": "MLenv",
   "language": "python",
   "name": "mlenv"
  },
  "language_info": {
   "codemirror_mode": {
    "name": "ipython",
    "version": 3
   },
   "file_extension": ".py",
   "mimetype": "text/x-python",
   "name": "python",
   "nbconvert_exporter": "python",
   "pygments_lexer": "ipython3",
   "version": "3.6.13"
  }
 },
 "nbformat": 4,
 "nbformat_minor": 5
}
